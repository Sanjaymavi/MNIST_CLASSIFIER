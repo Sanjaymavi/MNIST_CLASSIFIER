{
 "cells": [
  {
   "cell_type": "code",
   "execution_count": 40,
   "id": "2225e724",
   "metadata": {},
   "outputs": [],
   "source": [
    "import torch\n",
    "import numpy as np\n",
    "import torchvision\n",
    "from torchvision.datasets import MNIST\n",
    "#mnist = modified national institute of standards and technology database"
   ]
  },
  {
   "cell_type": "code",
   "execution_count": 41,
   "id": "38d2e327",
   "metadata": {},
   "outputs": [],
   "source": [
    "#DOWNLOADING TRAINING DATA\n",
    "\n",
    "dataset = MNIST(root='data/' , download=True)\n",
    "#MNIST=MODIFIED NATIONAL INSTITUTE OF STANDARDS AND TECHNOLOGY DATASETS."
   ]
  },
  {
   "cell_type": "code",
   "execution_count": 42,
   "id": "d4093469",
   "metadata": {},
   "outputs": [
    {
     "data": {
      "text/plain": [
       "60000"
      ]
     },
     "execution_count": 42,
     "metadata": {},
     "output_type": "execute_result"
    }
   ],
   "source": [
    "len(dataset) # we have 60k datasets here for training the model . "
   ]
  },
  {
   "cell_type": "code",
   "execution_count": 43,
   "id": "85ca26a9",
   "metadata": {},
   "outputs": [
    {
     "data": {
      "text/plain": [
       "10000"
      ]
     },
     "execution_count": 43,
     "metadata": {},
     "output_type": "execute_result"
    }
   ],
   "source": [
    "dataset = MNIST(root='data/' , train=False)  # here we have 10k datasets for testing the model.\n",
    "len(dataset)"
   ]
  },
  {
   "cell_type": "code",
   "execution_count": 44,
   "id": "a7700548",
   "metadata": {},
   "outputs": [
    {
     "data": {
      "text/plain": [
       "60000"
      ]
     },
     "execution_count": 44,
     "metadata": {},
     "output_type": "execute_result"
    }
   ],
   "source": [
    "dataset = MNIST(root='data/' , train=True)  # training datasets 60k\n",
    "len(dataset)"
   ]
  },
  {
   "cell_type": "code",
   "execution_count": 45,
   "id": "222aad7d",
   "metadata": {},
   "outputs": [
    {
     "data": {
      "text/plain": [
       "(<PIL.Image.Image image mode=L size=28x28 at 0x10DA94BF580>, 5)"
      ]
     },
     "execution_count": 45,
     "metadata": {},
     "output_type": "execute_result"
    }
   ],
   "source": [
    "dataset[0]  # 28x28 image , 5 label image"
   ]
  },
  {
   "cell_type": "code",
   "execution_count": 46,
   "id": "fcf6bf11",
   "metadata": {},
   "outputs": [],
   "source": [
    "import matplotlib.pyplot as plt\n",
    "%matplotlib inline  \n",
    "# these command helps to see the images in our jupyter not as a popup.\n",
    "#for more commands like these visit.  https://ipython.reasthedocs.io/en/stable/interactive/magics.html."
   ]
  },
  {
   "cell_type": "code",
   "execution_count": 47,
   "id": "a19bf297",
   "metadata": {},
   "outputs": [
    {
     "name": "stdout",
     "output_type": "stream",
     "text": [
      "label: 5\n"
     ]
    },
    {
     "data": {
      "image/png": "[encoded data removed]",
      "text/plain": [
       "<Figure size 432x288 with 1 Axes>"
      ]
     },
     "metadata": {
      "needs_background": "light"
     },
     "output_type": "display_data"
    }
   ],
   "source": [
    "image, label = dataset[0]\n",
    "plt.imshow(image, cmap= 'gray')  #colourmap=cmap\n",
    "print('label:', label)"
   ]
  },
  {
   "cell_type": "code",
   "execution_count": 48,
   "id": "44e434ef",
   "metadata": {},
   "outputs": [
    {
     "name": "stdout",
     "output_type": "stream",
     "text": [
      "label: 3\n"
     ]
    },
    {
     "data": {
      "image/png": "[encoded data removed]",
      "text/plain": [
       "<Figure size 432x288 with 1 Axes>"
      ]
     },
     "metadata": {
      "needs_background": "light"
     },
     "output_type": "display_data"
    }
   ],
   "source": [
    "image, label = dataset[10]\n",
    "plt.imshow(image, cmap= 'gray')  #colourmap=cmap\n",
    "print('label:', label)"
   ]
  },
  {
   "cell_type": "code",
   "execution_count": 49,
   "id": "548a5534",
   "metadata": {},
   "outputs": [],
   "source": [
    "#ok WE GOT IMAGES BUT PYTORCH DOES'NT KNOW HOW TO WORK WITH IMAGES , IT WORKS ONLY WITH TENSORS.SO WE NEED TO CONVERT IT INTO TENSORS\n",
    "\n",
    "import torchvision .transforms as transforms\n",
    "\n",
    "# here we use \"ToTensor\" transform to convert the images to tensors."
   ]
  },
  {
   "cell_type": "code",
   "execution_count": 50,
   "id": "c5555d66",
   "metadata": {},
   "outputs": [],
   "source": [
    "#MNIST DATASET (images , labels)\n",
    "dataset = MNIST(root='data/' , train=True, transform=transforms.ToTensor())"
   ]
  },
  {
   "cell_type": "code",
   "execution_count": 51,
   "id": "3053dd72",
   "metadata": {},
   "outputs": [
    {
     "name": "stdout",
     "output_type": "stream",
     "text": [
      "torch.Size([1, 28, 28]) 5\n"
     ]
    }
   ],
   "source": [
    "img_tensor, label = dataset[0]\n",
    "print(img_tensor.shape, label)\n",
    "# here the is converted to tensor of (1x28x28) tensor.the first dimension is used to keep track of colour channels.but in grayscale \n",
    "# so they're just one channel. other datasets have images with three colour channels ,red,green,blue(RGB).\n",
    "#AND other (28x28)  gives height and width."
   ]
  },
  {
   "cell_type": "code",
   "execution_count": 52,
   "id": "be01fec7",
   "metadata": {},
   "outputs": [
    {
     "name": "stdout",
     "output_type": "stream",
     "text": [
      "tensor([[[0.0039, 0.6039, 0.9922, 0.3529, 0.0000],\n",
      "         [0.0000, 0.5451, 0.9922, 0.7451, 0.0078],\n",
      "         [0.0000, 0.0431, 0.7451, 0.9922, 0.2745],\n",
      "         [0.0000, 0.0000, 0.1373, 0.9451, 0.8824],\n",
      "         [0.0000, 0.0000, 0.0000, 0.3176, 0.9412]]])\n",
      "tensor(1.) tensor(0.)\n"
     ]
    }
   ],
   "source": [
    "print(img_tensor[:,10:15,10:15])\n",
    "print(torch.max(img_tensor), torch.min(img_tensor))  #max=torch(1.)=white region , min=torch(0.)=black region in image\n",
    "# here we calculate the intensity of dataset[0] from 20 to 25 in both x and y axis\n",
    "# in output there is zeroes(minimum) rpresents dark black , and values in decimals represents white.higher value more white."
   ]
  },
  {
   "cell_type": "code",
   "execution_count": 53,
   "id": "1b0e58d2",
   "metadata": {},
   "outputs": [
    {
     "name": "stdout",
     "output_type": "stream",
     "text": [
      "tensor([[[0.0000, 0.0000, 0.0000, 0.0000, 0.0000, 0.0000, 0.0000, 0.0118,\n",
      "          0.0706, 0.0706],\n",
      "         [0.0000, 0.0000, 0.0000, 0.1176, 0.1412, 0.3686, 0.6039, 0.6667,\n",
      "          0.9922, 0.9922],\n",
      "         [0.0000, 0.0000, 0.1922, 0.9333, 0.9922, 0.9922, 0.9922, 0.9922,\n",
      "          0.9922, 0.9922],\n",
      "         [0.0000, 0.0000, 0.0706, 0.8588, 0.9922, 0.9922, 0.9922, 0.9922,\n",
      "          0.9922, 0.7765],\n",
      "         [0.0000, 0.0000, 0.0000, 0.3137, 0.6118, 0.4196, 0.9922, 0.9922,\n",
      "          0.8039, 0.0431],\n",
      "         [0.0000, 0.0000, 0.0000, 0.0000, 0.0549, 0.0039, 0.6039, 0.9922,\n",
      "          0.3529, 0.0000],\n",
      "         [0.0000, 0.0000, 0.0000, 0.0000, 0.0000, 0.0000, 0.5451, 0.9922,\n",
      "          0.7451, 0.0078],\n",
      "         [0.0000, 0.0000, 0.0000, 0.0000, 0.0000, 0.0000, 0.0431, 0.7451,\n",
      "          0.9922, 0.2745],\n",
      "         [0.0000, 0.0000, 0.0000, 0.0000, 0.0000, 0.0000, 0.0000, 0.1373,\n",
      "          0.9451, 0.8824],\n",
      "         [0.0000, 0.0000, 0.0000, 0.0000, 0.0000, 0.0000, 0.0000, 0.0000,\n",
      "          0.3176, 0.9412]]])\n",
      "tensor(1.) tensor(0.)\n"
     ]
    }
   ],
   "source": [
    "print(img_tensor[:,5:15,5:15])\n",
    "print(torch.max(img_tensor), torch.min(img_tensor))"
   ]
  },
  {
   "cell_type": "code",
   "execution_count": 54,
   "id": "3d48645d",
   "metadata": {},
   "outputs": [
    {
     "data": {
      "image/png": "[encoded data removed]",
      "text/plain": [
       "<Figure size 432x288 with 1 Axes>"
      ]
     },
     "metadata": {
      "needs_background": "light"
     },
     "output_type": "display_data"
    }
   ],
   "source": [
    "plt.imshow(img_tensor[0,10:15,10:15],cmap='gray');\n",
    "#here \"IMSHOW\" helps to plot the region , "
   ]
  },
  {
   "cell_type": "code",
   "execution_count": 55,
   "id": "2cc9e460",
   "metadata": {},
   "outputs": [],
   "source": [
    "#TRAINING AND VALIDATION DATASETS;\n",
    "#while building the model we split the data into three sets \n",
    "#1.) training set: train the model, compute loss and adjust the weights of the model using gradient descent.\n",
    "#2.)validation set:used to evaluate the model while training , adjust hyperparameter (learning rate,etc), and picks the best version of model.\n",
    "#3.)test set : used to compare different models , or different types of modeling approaches, and report the final accuracy of the model.\n",
    "\n",
    "#here we have60k training dataset there is no validation set , we only split it accordingly for our use of model."
   ]
  },
  {
   "cell_type": "code",
   "execution_count": 56,
   "id": "ff532fce",
   "metadata": {},
   "outputs": [],
   "source": [
    "def split_indices(n, val_pct):   # we know n= 60k\n",
    "    #determine size of validation set\n",
    "    n_val = int(val_pct*n)\n",
    "    #create random permutation of 0 to n-1\n",
    "    idxs = np.random.permutation(n)\n",
    "    #pick first n_val indices for validation\n",
    "    return idxs[n_val:], idxs[:n_val]"
   ]
  },
  {
   "cell_type": "code",
   "execution_count": 57,
   "id": "9191483c",
   "metadata": {},
   "outputs": [],
   "source": [
    "train_indices, val_indices = split_indices(len(dataset), val_pct=0.2)\n",
    "#here we take 20% of total n to val_pct."
   ]
  },
  {
   "cell_type": "code",
   "execution_count": 58,
   "id": "d1f9bcfe",
   "metadata": {},
   "outputs": [
    {
     "name": "stdout",
     "output_type": "stream",
     "text": [
      "48000 12000\n",
      "sample val indices:  [30082 45645 32425 32104 51003  8743 44044 56723  7816  3686]\n"
     ]
    }
   ],
   "source": [
    "print(len(train_indices), len(val_indices))\n",
    "print('sample val indices: ' , val_indices[:10])\n",
    "#48k for training, 12k for validation.\n",
    "#here we get shuffled val_pct data "
   ]
  },
  {
   "cell_type": "code",
   "execution_count": 59,
   "id": "b33ced21",
   "metadata": {},
   "outputs": [],
   "source": [
    "#CREATING THE PYTORCH DATALOADER FOR EACH OF THESE USING THE \"SUBSETRANDOMSAMPLER\" ,which samples elements randomly from a given list of indices"
   ]
  },
  {
   "cell_type": "code",
   "execution_count": 60,
   "id": "2f9bdcfd",
   "metadata": {},
   "outputs": [],
   "source": [
    "from torch.utils.data.sampler import SubsetRandomSampler\n",
    "from torch.utils.data.dataloader import DataLoader"
   ]
  },
  {
   "cell_type": "code",
   "execution_count": 61,
   "id": "ea20cb70",
   "metadata": {},
   "outputs": [],
   "source": [
    "batch_size = 100\n",
    "#we create batches for our training and validation dataset.\n",
    "#training sampler and dataloader\n",
    "train_sampler = SubsetRandomSampler(train_indices)\n",
    "train_loader = DataLoader(dataset, batch_size, sampler=train_sampler)\n",
    "\n",
    "#validation sampler and dataloader\n",
    "val_sampler = SubsetRandomSampler(val_indices)\n",
    "val_loader = DataLoader(dataset , batch_size , sampler=train_sampler)\n"
   ]
  },
  {
   "cell_type": "code",
   "execution_count": 62,
   "id": "b21b411c",
   "metadata": {},
   "outputs": [],
   "source": [
    "#MODEL\n",
    "#logistic is similar to linear regression.where output is sum of all inputs multiplied with weights \n",
    "#pred = x@w.t()+b\n",
    "#here also we use \"nn.linear\" to create a model , and nn.linear expects each training example to be vector, so each(1x28x28) \n",
    "#image  tensor needs to be flattened out into a vector of size 784(28x28) befor passsing into the model.\n",
    "#the output for each image is vector of size 10."
   ]
  },
  {
   "cell_type": "code",
   "execution_count": 63,
   "id": "5dec371b",
   "metadata": {},
   "outputs": [],
   "source": [
    "import torch.nn as nn\n",
    "\n",
    "input_size = 28*28\n",
    "num_classes = 10\n",
    "\n",
    "#logistic regression model\n",
    "model = nn.Linear(input_size , num_classes)"
   ]
  },
  {
   "cell_type": "code",
   "execution_count": 64,
   "id": "a1053b84",
   "metadata": {},
   "outputs": [
    {
     "name": "stdout",
     "output_type": "stream",
     "text": [
      "torch.Size([10, 784])\n"
     ]
    },
    {
     "data": {
      "text/plain": [
       "Parameter containing:\n",
       "tensor([[-0.0092, -0.0041, -0.0336,  ..., -0.0218,  0.0259, -0.0290],\n",
       "        [ 0.0354, -0.0341, -0.0130,  ..., -0.0036,  0.0302, -0.0060],\n",
       "        [-0.0354,  0.0335, -0.0092,  ...,  0.0139, -0.0238, -0.0085],\n",
       "        ...,\n",
       "        [ 0.0259,  0.0220, -0.0228,  ..., -0.0176, -0.0162, -0.0249],\n",
       "        [-0.0215, -0.0043,  0.0012,  ...,  0.0079,  0.0035,  0.0179],\n",
       "        [ 0.0037,  0.0215,  0.0296,  ...,  0.0226, -0.0286, -0.0176]],\n",
       "       requires_grad=True)"
      ]
     },
     "execution_count": 64,
     "metadata": {},
     "output_type": "execute_result"
    }
   ],
   "source": [
    "#CREATING WEIGHTS\n",
    "print(model.weight.shape)\n",
    "model.weight"
   ]
  },
  {
   "cell_type": "code",
   "execution_count": 65,
   "id": "4603515b",
   "metadata": {},
   "outputs": [
    {
     "name": "stdout",
     "output_type": "stream",
     "text": [
      "torch.Size([10])\n"
     ]
    },
    {
     "data": {
      "text/plain": [
       "Parameter containing:\n",
       "tensor([-0.0067, -0.0286,  0.0306,  0.0094, -0.0020, -0.0145, -0.0198, -0.0296,\n",
       "        -0.0065, -0.0156], requires_grad=True)"
      ]
     },
     "execution_count": 65,
     "metadata": {},
     "output_type": "execute_result"
    }
   ],
   "source": [
    "#CREATING BIAS\n",
    "print(model.bias.shape)\n",
    "model.bias"
   ]
  },
  {
   "cell_type": "code",
   "execution_count": 66,
   "id": "2348d71b",
   "metadata": {},
   "outputs": [
    {
     "name": "stdout",
     "output_type": "stream",
     "text": [
      "tensor([1, 6, 3, 7, 9, 2, 0, 3, 9, 7, 3, 9, 0, 0, 8, 0, 6, 1, 1, 9, 0, 5, 8, 0,\n",
      "        1, 6, 8, 8, 7, 8, 0, 3, 5, 1, 8, 7, 3, 7, 3, 4, 6, 4, 7, 0, 9, 4, 0, 6,\n",
      "        8, 4, 0, 6, 8, 4, 0, 7, 7, 1, 6, 7, 6, 9, 2, 3, 4, 0, 6, 0, 8, 3, 8, 5,\n",
      "        3, 5, 7, 9, 0, 8, 7, 7, 9, 5, 2, 7, 4, 2, 2, 8, 3, 0, 5, 8, 1, 8, 3, 5,\n",
      "        7, 9, 2, 3])\n",
      "torch.Size([100, 1, 28, 28])\n"
     ]
    },
    {
     "ename": "RuntimeError",
     "evalue": "mat1 and mat2 shapes cannot be multiplied (2800x28 and 784x10)",
     "output_type": "error",
     "traceback": [
      "\u001b[1;31m---------------------------------------------------------------------------\u001b[0m",
      "\u001b[1;31mRuntimeError\u001b[0m                              Traceback (most recent call last)",
      "\u001b[1;32m~\\AppData\\Local\\Temp/ipykernel_7656/1109417557.py\u001b[0m in \u001b[0;36m<module>\u001b[1;34m\u001b[0m\n\u001b[0;32m      2\u001b[0m     \u001b[0mprint\u001b[0m\u001b[1;33m(\u001b[0m\u001b[0mlabels\u001b[0m\u001b[1;33m)\u001b[0m\u001b[1;33m\u001b[0m\u001b[1;33m\u001b[0m\u001b[0m\n\u001b[0;32m      3\u001b[0m     \u001b[0mprint\u001b[0m\u001b[1;33m(\u001b[0m\u001b[0mimages\u001b[0m\u001b[1;33m.\u001b[0m\u001b[0mshape\u001b[0m\u001b[1;33m)\u001b[0m\u001b[1;33m\u001b[0m\u001b[1;33m\u001b[0m\u001b[0m\n\u001b[1;32m----> 4\u001b[1;33m     \u001b[0moutputs\u001b[0m \u001b[1;33m=\u001b[0m \u001b[0mmodel\u001b[0m\u001b[1;33m(\u001b[0m\u001b[0mimages\u001b[0m\u001b[1;33m)\u001b[0m\u001b[1;33m\u001b[0m\u001b[1;33m\u001b[0m\u001b[0m\n\u001b[0m\u001b[0;32m      5\u001b[0m     \u001b[1;32mbreak\u001b[0m\u001b[1;33m\u001b[0m\u001b[1;33m\u001b[0m\u001b[0m\n\u001b[0;32m      6\u001b[0m     \u001b[1;31m#we get error of showing the model images , because the shape is not matching one is (28x28) and another one is (784 )\u001b[0m\u001b[1;33m\u001b[0m\u001b[1;33m\u001b[0m\u001b[0m\n",
      "\u001b[1;32m~\\anaconda3\\lib\\site-packages\\torch\\nn\\modules\\module.py\u001b[0m in \u001b[0;36m_call_impl\u001b[1;34m(self, *input, **kwargs)\u001b[0m\n\u001b[0;32m   1100\u001b[0m         if not (self._backward_hooks or self._forward_hooks or self._forward_pre_hooks or _global_backward_hooks\n\u001b[0;32m   1101\u001b[0m                 or _global_forward_hooks or _global_forward_pre_hooks):\n\u001b[1;32m-> 1102\u001b[1;33m             \u001b[1;32mreturn\u001b[0m \u001b[0mforward_call\u001b[0m\u001b[1;33m(\u001b[0m\u001b[1;33m*\u001b[0m\u001b[0minput\u001b[0m\u001b[1;33m,\u001b[0m \u001b[1;33m**\u001b[0m\u001b[0mkwargs\u001b[0m\u001b[1;33m)\u001b[0m\u001b[1;33m\u001b[0m\u001b[1;33m\u001b[0m\u001b[0m\n\u001b[0m\u001b[0;32m   1103\u001b[0m         \u001b[1;31m# Do not call functions when jit is used\u001b[0m\u001b[1;33m\u001b[0m\u001b[1;33m\u001b[0m\u001b[0m\n\u001b[0;32m   1104\u001b[0m         \u001b[0mfull_backward_hooks\u001b[0m\u001b[1;33m,\u001b[0m \u001b[0mnon_full_backward_hooks\u001b[0m \u001b[1;33m=\u001b[0m \u001b[1;33m[\u001b[0m\u001b[1;33m]\u001b[0m\u001b[1;33m,\u001b[0m \u001b[1;33m[\u001b[0m\u001b[1;33m]\u001b[0m\u001b[1;33m\u001b[0m\u001b[1;33m\u001b[0m\u001b[0m\n",
      "\u001b[1;32m~\\anaconda3\\lib\\site-packages\\torch\\nn\\modules\\linear.py\u001b[0m in \u001b[0;36mforward\u001b[1;34m(self, input)\u001b[0m\n\u001b[0;32m    101\u001b[0m \u001b[1;33m\u001b[0m\u001b[0m\n\u001b[0;32m    102\u001b[0m     \u001b[1;32mdef\u001b[0m \u001b[0mforward\u001b[0m\u001b[1;33m(\u001b[0m\u001b[0mself\u001b[0m\u001b[1;33m,\u001b[0m \u001b[0minput\u001b[0m\u001b[1;33m:\u001b[0m \u001b[0mTensor\u001b[0m\u001b[1;33m)\u001b[0m \u001b[1;33m->\u001b[0m \u001b[0mTensor\u001b[0m\u001b[1;33m:\u001b[0m\u001b[1;33m\u001b[0m\u001b[1;33m\u001b[0m\u001b[0m\n\u001b[1;32m--> 103\u001b[1;33m         \u001b[1;32mreturn\u001b[0m \u001b[0mF\u001b[0m\u001b[1;33m.\u001b[0m\u001b[0mlinear\u001b[0m\u001b[1;33m(\u001b[0m\u001b[0minput\u001b[0m\u001b[1;33m,\u001b[0m \u001b[0mself\u001b[0m\u001b[1;33m.\u001b[0m\u001b[0mweight\u001b[0m\u001b[1;33m,\u001b[0m \u001b[0mself\u001b[0m\u001b[1;33m.\u001b[0m\u001b[0mbias\u001b[0m\u001b[1;33m)\u001b[0m\u001b[1;33m\u001b[0m\u001b[1;33m\u001b[0m\u001b[0m\n\u001b[0m\u001b[0;32m    104\u001b[0m \u001b[1;33m\u001b[0m\u001b[0m\n\u001b[0;32m    105\u001b[0m     \u001b[1;32mdef\u001b[0m \u001b[0mextra_repr\u001b[0m\u001b[1;33m(\u001b[0m\u001b[0mself\u001b[0m\u001b[1;33m)\u001b[0m \u001b[1;33m->\u001b[0m \u001b[0mstr\u001b[0m\u001b[1;33m:\u001b[0m\u001b[1;33m\u001b[0m\u001b[1;33m\u001b[0m\u001b[0m\n",
      "\u001b[1;32m~\\anaconda3\\lib\\site-packages\\torch\\nn\\functional.py\u001b[0m in \u001b[0;36mlinear\u001b[1;34m(input, weight, bias)\u001b[0m\n\u001b[0;32m   1846\u001b[0m     \u001b[1;32mif\u001b[0m \u001b[0mhas_torch_function_variadic\u001b[0m\u001b[1;33m(\u001b[0m\u001b[0minput\u001b[0m\u001b[1;33m,\u001b[0m \u001b[0mweight\u001b[0m\u001b[1;33m,\u001b[0m \u001b[0mbias\u001b[0m\u001b[1;33m)\u001b[0m\u001b[1;33m:\u001b[0m\u001b[1;33m\u001b[0m\u001b[1;33m\u001b[0m\u001b[0m\n\u001b[0;32m   1847\u001b[0m         \u001b[1;32mreturn\u001b[0m \u001b[0mhandle_torch_function\u001b[0m\u001b[1;33m(\u001b[0m\u001b[0mlinear\u001b[0m\u001b[1;33m,\u001b[0m \u001b[1;33m(\u001b[0m\u001b[0minput\u001b[0m\u001b[1;33m,\u001b[0m \u001b[0mweight\u001b[0m\u001b[1;33m,\u001b[0m \u001b[0mbias\u001b[0m\u001b[1;33m)\u001b[0m\u001b[1;33m,\u001b[0m \u001b[0minput\u001b[0m\u001b[1;33m,\u001b[0m \u001b[0mweight\u001b[0m\u001b[1;33m,\u001b[0m \u001b[0mbias\u001b[0m\u001b[1;33m=\u001b[0m\u001b[0mbias\u001b[0m\u001b[1;33m)\u001b[0m\u001b[1;33m\u001b[0m\u001b[1;33m\u001b[0m\u001b[0m\n\u001b[1;32m-> 1848\u001b[1;33m     \u001b[1;32mreturn\u001b[0m \u001b[0mtorch\u001b[0m\u001b[1;33m.\u001b[0m\u001b[0m_C\u001b[0m\u001b[1;33m.\u001b[0m\u001b[0m_nn\u001b[0m\u001b[1;33m.\u001b[0m\u001b[0mlinear\u001b[0m\u001b[1;33m(\u001b[0m\u001b[0minput\u001b[0m\u001b[1;33m,\u001b[0m \u001b[0mweight\u001b[0m\u001b[1;33m,\u001b[0m \u001b[0mbias\u001b[0m\u001b[1;33m)\u001b[0m\u001b[1;33m\u001b[0m\u001b[1;33m\u001b[0m\u001b[0m\n\u001b[0m\u001b[0;32m   1849\u001b[0m \u001b[1;33m\u001b[0m\u001b[0m\n\u001b[0;32m   1850\u001b[0m \u001b[1;33m\u001b[0m\u001b[0m\n",
      "\u001b[1;31mRuntimeError\u001b[0m: mat1 and mat2 shapes cannot be multiplied (2800x28 and 784x10)"
     ]
    }
   ],
   "source": [
    "for images, labels in train_loader:\n",
    "    print(labels)\n",
    "    print(images.shape)\n",
    "    outputs = model(images)\n",
    "    break\n",
    "    #we get error of showing the model images , because the shape is not matching one is (28x28) and another one is (784 )"
   ]
  },
  {
   "cell_type": "code",
   "execution_count": null,
   "id": "5f84fa1b",
   "metadata": {},
   "outputs": [],
   "source": [
    "#the error above is because of the input data doesnt have the right shape , our images are of shape 1x28x28 , but we need 784, \n",
    "#so we need to flatten , for that we use \".reshape\" mthod of a tensor , which helps us to view efficiently view each images as\n",
    "#a flat vector without really changing the underlying data.\n",
    "\n",
    "#we include a custom model by extending the nn.module class from pytorch."
   ]
  },
  {
   "cell_type": "code",
   "execution_count": 67,
   "id": "5ca6f7f7",
   "metadata": {},
   "outputs": [],
   "source": [
    "class MnistModel(nn.Module):\n",
    "    def __init__(self):\n",
    "        super().__init__()\n",
    "        self.linear = nn.Linear(input_size, num_classes)\n",
    "        \n",
    "    def forward(self, xb):\n",
    "        xb = xb.reshape(-1, 784)\n",
    "        out = self.linear(xb)\n",
    "        return out\n",
    "    \n",
    "model = MnistModel()"
   ]
  },
  {
   "cell_type": "code",
   "execution_count": 68,
   "id": "aab462e2",
   "metadata": {},
   "outputs": [
    {
     "data": {
      "text/plain": [
       "Linear(in_features=784, out_features=10, bias=True)"
      ]
     },
     "execution_count": 68,
     "metadata": {},
     "output_type": "execute_result"
    }
   ],
   "source": [
    "model.linear"
   ]
  },
  {
   "cell_type": "code",
   "execution_count": 69,
   "id": "583596cd",
   "metadata": {},
   "outputs": [
    {
     "name": "stdout",
     "output_type": "stream",
     "text": [
      "torch.Size([10, 784]) torch.Size([10])\n"
     ]
    },
    {
     "data": {
      "text/plain": [
       "[Parameter containing:\n",
       " tensor([[ 0.0279, -0.0348, -0.0328,  ...,  0.0217,  0.0054, -0.0280],\n",
       "         [ 0.0258,  0.0054, -0.0341,  ..., -0.0092, -0.0203, -0.0012],\n",
       "         [ 0.0163,  0.0353, -0.0250,  ..., -0.0281, -0.0120, -0.0228],\n",
       "         ...,\n",
       "         [ 0.0213,  0.0228, -0.0096,  ...,  0.0316,  0.0183,  0.0122],\n",
       "         [ 0.0179,  0.0157,  0.0342,  ..., -0.0039, -0.0041, -0.0168],\n",
       "         [ 0.0184,  0.0064, -0.0077,  ..., -0.0142,  0.0132,  0.0061]],\n",
       "        requires_grad=True),\n",
       " Parameter containing:\n",
       " tensor([-0.0169, -0.0273,  0.0265,  0.0317,  0.0153,  0.0204, -0.0326,  0.0300,\n",
       "          0.0183, -0.0274], requires_grad=True)]"
      ]
     },
     "execution_count": 69,
     "metadata": {},
     "output_type": "execute_result"
    }
   ],
   "source": [
    "print(model.linear.weight.shape, model.linear.bias.shape)\n",
    "list(model.parameters())"
   ]
  },
  {
   "cell_type": "markdown",
   "id": "dd2ad8bc",
   "metadata": {},
   "source": []
  },
  {
   "cell_type": "code",
   "execution_count": 70,
   "id": "1b484292",
   "metadata": {},
   "outputs": [
    {
     "name": "stdout",
     "output_type": "stream",
     "text": [
      "outputs.shape:  torch.Size([100, 10])\n",
      "Sample outputs:\n",
      " tensor([[ 1.3579e-01, -6.3904e-02,  2.7110e-02, -1.4010e-01, -2.1289e-01,\n",
      "         -1.0043e-01,  2.0502e-02, -1.2730e-01,  1.0918e-01,  8.8363e-02],\n",
      "        [-9.4032e-02,  2.2026e-02, -5.0344e-02, -1.8742e-01, -3.4288e-01,\n",
      "          1.2376e-01,  1.1110e-01,  4.5179e-02,  2.4784e-02, -4.5173e-02],\n",
      "        [ 1.8942e-01,  1.4572e-02,  2.1869e-01,  1.2516e-01,  1.4549e-01,\n",
      "         -4.6556e-01, -4.6326e-04, -1.1562e-03, -1.3421e-01, -1.1508e-01]])\n"
     ]
    }
   ],
   "source": [
    "for images, labels in train_loader:\n",
    "    outputs = model(images)\n",
    "    break\n",
    "    \n",
    "print('outputs.shape: ', outputs.shape)\n",
    "print('Sample outputs:\\n', outputs[:3].data)\n",
    "#here we get a model images , by converting the 28x28 into vector .\n",
    "#for every image there are ten(10) classes"
   ]
  },
  {
   "cell_type": "code",
   "execution_count": null,
   "id": "cf21a01c",
   "metadata": {},
   "outputs": [],
   "source": [
    "# TO CONVERT THE OUTPUT ROWS TO PROBABILITY WE USE SOFTMAX FUNCTION, where we have [eyi/summation eyi] , where y is the value from output"
   ]
  },
  {
   "cell_type": "code",
   "execution_count": 71,
   "id": "ed9f2a71",
   "metadata": {},
   "outputs": [
    {
     "name": "stdout",
     "output_type": "stream",
     "text": [
      "Sample probablities:\n",
      " tensor([[0.1169, 0.0957, 0.1048, 0.0887, 0.0825, 0.0923, 0.1041, 0.0898, 0.1138,\n",
      "         0.1114],\n",
      "        [0.0939, 0.1054, 0.0980, 0.0855, 0.0732, 0.1167, 0.1152, 0.1079, 0.1057,\n",
      "         0.0986],\n",
      "        [0.1191, 0.1000, 0.1226, 0.1117, 0.1140, 0.0619, 0.0985, 0.0984, 0.0862,\n",
      "         0.0878],\n",
      "        [0.1055, 0.0897, 0.1000, 0.0852, 0.1366, 0.0778, 0.0978, 0.1180, 0.0939,\n",
      "         0.0956]])\n",
      "sum:  0.9999999403953552\n"
     ]
    }
   ],
   "source": [
    "import torch.nn.functional as F\n",
    "\n",
    "\n",
    "#apply softmax for each output row\n",
    "probs = F.softmax(outputs, dim=1)\n",
    "\n",
    "#look at sample probabilities\n",
    "print(\"Sample probablities:\\n\" , probs[:4].data)\n",
    "\n",
    "#add up the probabilitites of an output row\n",
    "print(\"sum: \", torch.sum(probs[0]).item())   # calculating the sum for 0 row \n",
    "#here we calculated probability of all numbers\n",
    "# # and we know in probability sum of all values is equal to one(1), more equal to 1."
   ]
  },
  {
   "cell_type": "code",
   "execution_count": 72,
   "id": "256e404a",
   "metadata": {},
   "outputs": [
    {
     "name": "stdout",
     "output_type": "stream",
     "text": [
      "tensor([0, 5, 2, 4, 8, 8, 8, 6, 0, 0, 0, 2, 0, 7, 6, 8, 2, 9, 6, 6, 0, 6, 8, 0,\n",
      "        8, 0, 0, 6, 0, 6, 8, 1, 1, 0, 8, 2, 0, 0, 8, 6, 5, 7, 0, 7, 2, 8, 6, 8,\n",
      "        8, 8, 0, 0, 0, 6, 8, 5, 3, 7, 0, 6, 8, 8, 0, 8, 1, 5, 0, 7, 1, 8, 1, 8,\n",
      "        1, 6, 2, 7, 3, 0, 0, 2, 2, 6, 5, 5, 7, 2, 2, 2, 0, 8, 6, 0, 4, 0, 6, 0,\n",
      "        5, 7, 0, 8])\n",
      "tensor([0.1169, 0.1167, 0.1226, 0.1366, 0.1611, 0.1258, 0.1238, 0.1272, 0.1409,\n",
      "        0.1274, 0.1289, 0.1568, 0.1473, 0.1326, 0.1262, 0.1158, 0.1268, 0.1246,\n",
      "        0.1154, 0.1154, 0.1206, 0.1413, 0.1194, 0.1174, 0.1551, 0.1438, 0.1081,\n",
      "        0.1411, 0.1161, 0.1185, 0.1441, 0.1315, 0.1407, 0.1241, 0.1373, 0.1080,\n",
      "        0.1358, 0.1236, 0.1291, 0.1437, 0.1372, 0.1322, 0.1413, 0.1296, 0.1272,\n",
      "        0.1504, 0.1143, 0.1242, 0.1311, 0.1290, 0.1529, 0.1460, 0.1190, 0.1127,\n",
      "        0.1336, 0.1267, 0.1211, 0.1239, 0.1253, 0.1188, 0.1304, 0.1452, 0.1314,\n",
      "        0.1445, 0.1207, 0.1220, 0.1331, 0.1525, 0.1215, 0.1412, 0.1308, 0.1497,\n",
      "        0.1186, 0.1225, 0.1418, 0.1188, 0.1266, 0.1257, 0.1397, 0.1257, 0.1206,\n",
      "        0.1353, 0.1304, 0.1257, 0.1291, 0.1417, 0.1390, 0.1208, 0.1225, 0.1549,\n",
      "        0.1454, 0.1391, 0.1113, 0.1305, 0.1251, 0.1150, 0.1200, 0.1272, 0.1172,\n",
      "        0.1224], grad_fn=<MaxBackward0>)\n"
     ]
    }
   ],
   "source": [
    "max_probs , preds = torch.max(probs, dim=1)   # here torch.max picks the best probability and best indices among all.\n",
    "print(preds) #gives random labels\n",
    "print(max_probs)"
   ]
  },
  {
   "cell_type": "code",
   "execution_count": 73,
   "id": "a462cb2e",
   "metadata": {},
   "outputs": [
    {
     "data": {
      "text/plain": [
       "tensor([1, 6, 3, 3, 0, 3, 2, 6, 6, 3, 5, 6, 5, 0, 7, 1, 0, 1, 4, 7, 7, 0, 1, 8,\n",
       "        0, 6, 5, 7, 5, 9, 8, 8, 4, 3, 5, 1, 6, 8, 5, 5, 4, 3, 0, 3, 4, 2, 7, 6,\n",
       "        8, 5, 6, 6, 8, 2, 5, 7, 3, 7, 7, 7, 6, 5, 3, 6, 5, 4, 2, 7, 9, 0, 8, 0,\n",
       "        7, 8, 4, 9, 3, 7, 8, 9, 0, 5, 9, 6, 2, 2, 0, 8, 6, 6, 3, 5, 3, 6, 2, 1,\n",
       "        7, 9, 9, 4])"
      ]
     },
     "execution_count": 73,
     "metadata": {},
     "output_type": "execute_result"
    }
   ],
   "source": [
    "labels   # actual labels"
   ]
  },
  {
   "cell_type": "code",
   "execution_count": 74,
   "id": "cef75435",
   "metadata": {},
   "outputs": [
    {
     "data": {
      "text/plain": [
       "0.09"
      ]
     },
     "execution_count": 74,
     "metadata": {},
     "output_type": "execute_result"
    }
   ],
   "source": [
    "torch.sum(labels == preds).item() / len(labels) \n",
    "#return true if both are same. "
   ]
  },
  {
   "cell_type": "code",
   "execution_count": 75,
   "id": "0fa34d1f",
   "metadata": {},
   "outputs": [],
   "source": [
    "# EVALUATION METRIC AND LOSS FUNCTION\n",
    "#in linear regression we need a way to evaluate how well our model. but the natural wa to find these is to finding the percentage\n",
    "#of labels correctlythat were predicted correctly, that is finding the accuracy.\n",
    "\n",
    "def accuracy(l1,l2):\n",
    "    return torch.sum(l1 == l2).item() / len(l1)"
   ]
  },
  {
   "cell_type": "code",
   "execution_count": 76,
   "id": "c235f47b",
   "metadata": {},
   "outputs": [
    {
     "data": {
      "text/plain": [
       "0.09"
      ]
     },
     "execution_count": 76,
     "metadata": {},
     "output_type": "execute_result"
    }
   ],
   "source": [
    "accuracy(preds, labels)"
   ]
  },
  {
   "cell_type": "code",
   "execution_count": null,
   "id": "44881573",
   "metadata": {},
   "outputs": [],
   "source": [
    "#unlike accuracy , cross entropy is a continous and differentiable function that also provides good feesback for incremental \n",
    "#imporvements in a model.(a slightly higher probability for the correct label lead to the lower loss.)"
   ]
  },
  {
   "cell_type": "code",
   "execution_count": 77,
   "id": "7c901c2b",
   "metadata": {},
   "outputs": [],
   "source": [
    "loss_fn = F.cross_entropy"
   ]
  },
  {
   "cell_type": "code",
   "execution_count": 78,
   "id": "9b5183f8",
   "metadata": {},
   "outputs": [
    {
     "name": "stdout",
     "output_type": "stream",
     "text": [
      "tensor(2.2949, grad_fn=<NllLossBackward0>)\n"
     ]
    }
   ],
   "source": [
    "#loss for the current batch\n",
    "loss = loss_fn(outputs, labels)\n",
    "print(loss)"
   ]
  },
  {
   "cell_type": "code",
   "execution_count": 79,
   "id": "c479b9ef",
   "metadata": {},
   "outputs": [],
   "source": [
    "#OPTIMIZER\n",
    "#we are going to use optim.SGD to update the weights and biases during training, but with the higher learning rate of 1e-3\n",
    "\n",
    "learning_rate = 0.001  # hyperparameter , helps to train model as soon as .\n",
    "optimizer = torch.optim.SGD(model.parameters(), lr=learning_rate)"
   ]
  },
  {
   "cell_type": "code",
   "execution_count": 80,
   "id": "63d829ee",
   "metadata": {},
   "outputs": [],
   "source": [
    "#TRAINING THE MODEL\n",
    "def loss_batch(model, loss_func , xb , yb , opt=None , metric = None):\n",
    "    #calculate loss\n",
    "    preds = model(xb)\n",
    "    loss = loss_func(preds , yb)\n",
    "    \n",
    "    if opt is not None:\n",
    "        #compute gradients\n",
    "        loss.backward()\n",
    "        #update parameters\n",
    "        opt.step()\n",
    "        #reset gradients\n",
    "        opt.zero_grad()\n",
    "        \n",
    "    metric_result = None\n",
    "    if metric is not None:\n",
    "        #compute the metric\n",
    "        metric_result = metric(preds , yb)\n",
    "    \n",
    "    return loss.item(), len(xb) , metric_result"
   ]
  },
  {
   "cell_type": "code",
   "execution_count": 81,
   "id": "3fb00e3b",
   "metadata": {},
   "outputs": [],
   "source": [
    "def evaluate(model, loss_fn, valid_d1, metric=None):\n",
    "    with torch.no_grad():\n",
    "        #pass each batch through the model\n",
    "        results = [loss_batch(model, loss_fn, xb, yb, metric=metric)\n",
    "                   for xb, yb in valid_d1]\n",
    "        #separate losses, count and metrics\n",
    "        losses, nums, metrics = zip(*results)  # we separate the batch into three lists by zip\n",
    "        \n",
    "        #total size of the datasize\n",
    "        total = np.sum(nums)\n",
    "        #avg.loss across batches\n",
    "        avg_loss = np.sum(np.multiply(losses, nums)) / total\n",
    "        avg_metric = None\n",
    "        if metric is not None:\n",
    "            #avg \\. of metric across batches\n",
    "            avg_metric = np.sum(np.multiply(metrics, nums)) / total\n",
    "    return avg_loss, total, avg_metric"
   ]
  },
  {
   "cell_type": "code",
   "execution_count": 82,
   "id": "20aaf921",
   "metadata": {},
   "outputs": [],
   "source": [
    "def accuracy(outputs, labels):\n",
    "    _, preds = torch.max(outputs, dim=1)\n",
    "    return torch.sum(preds==labels).item() / len(preds)"
   ]
  },
  {
   "cell_type": "code",
   "execution_count": 83,
   "id": "38442ba6",
   "metadata": {},
   "outputs": [
    {
     "name": "stdout",
     "output_type": "stream",
     "text": [
      "loss: 2.2878, Accuracy: 0.099625\n"
     ]
    }
   ],
   "source": [
    "val_loss, total, val_acc = evaluate(model, loss_fn, val_loader, metric=accuracy)\n",
    "print('loss: {:.4f}, Accuracy: {:4f}' .format(val_loss, val_acc))"
   ]
  },
  {
   "cell_type": "code",
   "execution_count": 84,
   "id": "4d154314",
   "metadata": {},
   "outputs": [],
   "source": [
    "def fit(epochs, model, loss_fn, opt, train_dl, valid_dl, metric=None):\n",
    "    for epoch in range(epochs):\n",
    "        #training\n",
    "        for xb, yb in train_dl:\n",
    "            losss,_,_=loss_batch(model, loss_fn, xb, yb, opt)\n",
    "            \n",
    "            #evaluation\n",
    "            result = evaluate(model, loss_fn, valid_dl, metric)\n",
    "            val_loss, total, val_metric = result\n",
    "            \n",
    "            #print progress\n",
    "            if metric is None:\n",
    "                print('eoch [{}/{}], Loss: {:.4f}'\n",
    "                      .format(epoch+1, epochs, val_loss))\n",
    "            else:\n",
    "                print('epoch [{}/{}], Loss: {:.4f}, {}: {:.4f}'\n",
    "                     .format(epoch+1, epochs, val_loss, metric.__name__,val_metric))"
   ]
  },
  {
   "cell_type": "code",
   "execution_count": 85,
   "id": "696fd37f",
   "metadata": {},
   "outputs": [],
   "source": [
    "#redefine the model and optimizer\n",
    "model = MnistModel()\n",
    "optimizer = torch.optim.SGD(model.parameters(), lr=learning_rate)"
   ]
  },
  {
   "cell_type": "code",
   "execution_count": 86,
   "id": "3888ad4d",
   "metadata": {},
   "outputs": [
    {
     "name": "stdout",
     "output_type": "stream",
     "text": [
      "epoch [1/5], Loss: 2.3760, accuracy: 0.0318\n",
      "epoch [1/5], Loss: 2.3749, accuracy: 0.0323\n",
      "epoch [1/5], Loss: 2.3739, accuracy: 0.0328\n"
     ]
    },
    {
     "ename": "KeyboardInterrupt",
     "evalue": "",
     "output_type": "error",
     "traceback": [
      "\u001b[1;31m---------------------------------------------------------------------------\u001b[0m",
      "\u001b[1;31mKeyboardInterrupt\u001b[0m                         Traceback (most recent call last)",
      "\u001b[1;32m~\\AppData\\Local\\Temp/ipykernel_7656/465464206.py\u001b[0m in \u001b[0;36m<module>\u001b[1;34m\u001b[0m\n\u001b[1;32m----> 1\u001b[1;33m \u001b[0mfit\u001b[0m\u001b[1;33m(\u001b[0m\u001b[1;36m5\u001b[0m\u001b[1;33m,\u001b[0m \u001b[0mmodel\u001b[0m\u001b[1;33m,\u001b[0m \u001b[0mF\u001b[0m\u001b[1;33m.\u001b[0m\u001b[0mcross_entropy\u001b[0m\u001b[1;33m,\u001b[0m \u001b[0moptimizer\u001b[0m\u001b[1;33m,\u001b[0m \u001b[0mtrain_loader\u001b[0m\u001b[1;33m,\u001b[0m \u001b[0mval_loader\u001b[0m\u001b[1;33m,\u001b[0m \u001b[0maccuracy\u001b[0m\u001b[1;33m)\u001b[0m\u001b[1;33m\u001b[0m\u001b[1;33m\u001b[0m\u001b[0m\n\u001b[0m\u001b[0;32m      2\u001b[0m \u001b[1;31m#here the  loss getting decreased and the accuray keeps increasing\u001b[0m\u001b[1;33m\u001b[0m\u001b[1;33m\u001b[0m\u001b[0m\n",
      "\u001b[1;32m~\\AppData\\Local\\Temp/ipykernel_7656/3186957580.py\u001b[0m in \u001b[0;36mfit\u001b[1;34m(epochs, model, loss_fn, opt, train_dl, valid_dl, metric)\u001b[0m\n\u001b[0;32m      6\u001b[0m \u001b[1;33m\u001b[0m\u001b[0m\n\u001b[0;32m      7\u001b[0m             \u001b[1;31m#evaluation\u001b[0m\u001b[1;33m\u001b[0m\u001b[1;33m\u001b[0m\u001b[0m\n\u001b[1;32m----> 8\u001b[1;33m             \u001b[0mresult\u001b[0m \u001b[1;33m=\u001b[0m \u001b[0mevaluate\u001b[0m\u001b[1;33m(\u001b[0m\u001b[0mmodel\u001b[0m\u001b[1;33m,\u001b[0m \u001b[0mloss_fn\u001b[0m\u001b[1;33m,\u001b[0m \u001b[0mvalid_dl\u001b[0m\u001b[1;33m,\u001b[0m \u001b[0mmetric\u001b[0m\u001b[1;33m)\u001b[0m\u001b[1;33m\u001b[0m\u001b[1;33m\u001b[0m\u001b[0m\n\u001b[0m\u001b[0;32m      9\u001b[0m             \u001b[0mval_loss\u001b[0m\u001b[1;33m,\u001b[0m \u001b[0mtotal\u001b[0m\u001b[1;33m,\u001b[0m \u001b[0mval_metric\u001b[0m \u001b[1;33m=\u001b[0m \u001b[0mresult\u001b[0m\u001b[1;33m\u001b[0m\u001b[1;33m\u001b[0m\u001b[0m\n\u001b[0;32m     10\u001b[0m \u001b[1;33m\u001b[0m\u001b[0m\n",
      "\u001b[1;32m~\\AppData\\Local\\Temp/ipykernel_7656/3352672133.py\u001b[0m in \u001b[0;36mevaluate\u001b[1;34m(model, loss_fn, valid_d1, metric)\u001b[0m\n\u001b[0;32m      2\u001b[0m     \u001b[1;32mwith\u001b[0m \u001b[0mtorch\u001b[0m\u001b[1;33m.\u001b[0m\u001b[0mno_grad\u001b[0m\u001b[1;33m(\u001b[0m\u001b[1;33m)\u001b[0m\u001b[1;33m:\u001b[0m\u001b[1;33m\u001b[0m\u001b[1;33m\u001b[0m\u001b[0m\n\u001b[0;32m      3\u001b[0m         \u001b[1;31m#pass each batch through the model\u001b[0m\u001b[1;33m\u001b[0m\u001b[1;33m\u001b[0m\u001b[0m\n\u001b[1;32m----> 4\u001b[1;33m         results = [loss_batch(model, loss_fn, xb, yb, metric=metric)\n\u001b[0m\u001b[0;32m      5\u001b[0m                    for xb, yb in valid_d1]\n\u001b[0;32m      6\u001b[0m         \u001b[1;31m#separate losses, count and metrics\u001b[0m\u001b[1;33m\u001b[0m\u001b[1;33m\u001b[0m\u001b[0m\n",
      "\u001b[1;32m~\\AppData\\Local\\Temp/ipykernel_7656/3352672133.py\u001b[0m in \u001b[0;36m<listcomp>\u001b[1;34m(.0)\u001b[0m\n\u001b[0;32m      2\u001b[0m     \u001b[1;32mwith\u001b[0m \u001b[0mtorch\u001b[0m\u001b[1;33m.\u001b[0m\u001b[0mno_grad\u001b[0m\u001b[1;33m(\u001b[0m\u001b[1;33m)\u001b[0m\u001b[1;33m:\u001b[0m\u001b[1;33m\u001b[0m\u001b[1;33m\u001b[0m\u001b[0m\n\u001b[0;32m      3\u001b[0m         \u001b[1;31m#pass each batch through the model\u001b[0m\u001b[1;33m\u001b[0m\u001b[1;33m\u001b[0m\u001b[0m\n\u001b[1;32m----> 4\u001b[1;33m         results = [loss_batch(model, loss_fn, xb, yb, metric=metric)\n\u001b[0m\u001b[0;32m      5\u001b[0m                    for xb, yb in valid_d1]\n\u001b[0;32m      6\u001b[0m         \u001b[1;31m#separate losses, count and metrics\u001b[0m\u001b[1;33m\u001b[0m\u001b[1;33m\u001b[0m\u001b[0m\n",
      "\u001b[1;32m~\\anaconda3\\lib\\site-packages\\torch\\utils\\data\\dataloader.py\u001b[0m in \u001b[0;36m__next__\u001b[1;34m(self)\u001b[0m\n\u001b[0;32m    519\u001b[0m             \u001b[1;32mif\u001b[0m \u001b[0mself\u001b[0m\u001b[1;33m.\u001b[0m\u001b[0m_sampler_iter\u001b[0m \u001b[1;32mis\u001b[0m \u001b[1;32mNone\u001b[0m\u001b[1;33m:\u001b[0m\u001b[1;33m\u001b[0m\u001b[1;33m\u001b[0m\u001b[0m\n\u001b[0;32m    520\u001b[0m                 \u001b[0mself\u001b[0m\u001b[1;33m.\u001b[0m\u001b[0m_reset\u001b[0m\u001b[1;33m(\u001b[0m\u001b[1;33m)\u001b[0m\u001b[1;33m\u001b[0m\u001b[1;33m\u001b[0m\u001b[0m\n\u001b[1;32m--> 521\u001b[1;33m             \u001b[0mdata\u001b[0m \u001b[1;33m=\u001b[0m \u001b[0mself\u001b[0m\u001b[1;33m.\u001b[0m\u001b[0m_next_data\u001b[0m\u001b[1;33m(\u001b[0m\u001b[1;33m)\u001b[0m\u001b[1;33m\u001b[0m\u001b[1;33m\u001b[0m\u001b[0m\n\u001b[0m\u001b[0;32m    522\u001b[0m             \u001b[0mself\u001b[0m\u001b[1;33m.\u001b[0m\u001b[0m_num_yielded\u001b[0m \u001b[1;33m+=\u001b[0m \u001b[1;36m1\u001b[0m\u001b[1;33m\u001b[0m\u001b[1;33m\u001b[0m\u001b[0m\n\u001b[0;32m    523\u001b[0m             \u001b[1;32mif\u001b[0m \u001b[0mself\u001b[0m\u001b[1;33m.\u001b[0m\u001b[0m_dataset_kind\u001b[0m \u001b[1;33m==\u001b[0m \u001b[0m_DatasetKind\u001b[0m\u001b[1;33m.\u001b[0m\u001b[0mIterable\u001b[0m \u001b[1;32mand\u001b[0m\u001b[0;31m \u001b[0m\u001b[0;31m\\\u001b[0m\u001b[1;33m\u001b[0m\u001b[1;33m\u001b[0m\u001b[0m\n",
      "\u001b[1;32m~\\anaconda3\\lib\\site-packages\\torch\\utils\\data\\dataloader.py\u001b[0m in \u001b[0;36m_next_data\u001b[1;34m(self)\u001b[0m\n\u001b[0;32m    559\u001b[0m     \u001b[1;32mdef\u001b[0m \u001b[0m_next_data\u001b[0m\u001b[1;33m(\u001b[0m\u001b[0mself\u001b[0m\u001b[1;33m)\u001b[0m\u001b[1;33m:\u001b[0m\u001b[1;33m\u001b[0m\u001b[1;33m\u001b[0m\u001b[0m\n\u001b[0;32m    560\u001b[0m         \u001b[0mindex\u001b[0m \u001b[1;33m=\u001b[0m \u001b[0mself\u001b[0m\u001b[1;33m.\u001b[0m\u001b[0m_next_index\u001b[0m\u001b[1;33m(\u001b[0m\u001b[1;33m)\u001b[0m  \u001b[1;31m# may raise StopIteration\u001b[0m\u001b[1;33m\u001b[0m\u001b[1;33m\u001b[0m\u001b[0m\n\u001b[1;32m--> 561\u001b[1;33m         \u001b[0mdata\u001b[0m \u001b[1;33m=\u001b[0m \u001b[0mself\u001b[0m\u001b[1;33m.\u001b[0m\u001b[0m_dataset_fetcher\u001b[0m\u001b[1;33m.\u001b[0m\u001b[0mfetch\u001b[0m\u001b[1;33m(\u001b[0m\u001b[0mindex\u001b[0m\u001b[1;33m)\u001b[0m  \u001b[1;31m# may raise StopIteration\u001b[0m\u001b[1;33m\u001b[0m\u001b[1;33m\u001b[0m\u001b[0m\n\u001b[0m\u001b[0;32m    562\u001b[0m         \u001b[1;32mif\u001b[0m \u001b[0mself\u001b[0m\u001b[1;33m.\u001b[0m\u001b[0m_pin_memory\u001b[0m\u001b[1;33m:\u001b[0m\u001b[1;33m\u001b[0m\u001b[1;33m\u001b[0m\u001b[0m\n\u001b[0;32m    563\u001b[0m             \u001b[0mdata\u001b[0m \u001b[1;33m=\u001b[0m \u001b[0m_utils\u001b[0m\u001b[1;33m.\u001b[0m\u001b[0mpin_memory\u001b[0m\u001b[1;33m.\u001b[0m\u001b[0mpin_memory\u001b[0m\u001b[1;33m(\u001b[0m\u001b[0mdata\u001b[0m\u001b[1;33m)\u001b[0m\u001b[1;33m\u001b[0m\u001b[1;33m\u001b[0m\u001b[0m\n",
      "\u001b[1;32m~\\anaconda3\\lib\\site-packages\\torch\\utils\\data\\_utils\\fetch.py\u001b[0m in \u001b[0;36mfetch\u001b[1;34m(self, possibly_batched_index)\u001b[0m\n\u001b[0;32m     50\u001b[0m         \u001b[1;32melse\u001b[0m\u001b[1;33m:\u001b[0m\u001b[1;33m\u001b[0m\u001b[1;33m\u001b[0m\u001b[0m\n\u001b[0;32m     51\u001b[0m             \u001b[0mdata\u001b[0m \u001b[1;33m=\u001b[0m \u001b[0mself\u001b[0m\u001b[1;33m.\u001b[0m\u001b[0mdataset\u001b[0m\u001b[1;33m[\u001b[0m\u001b[0mpossibly_batched_index\u001b[0m\u001b[1;33m]\u001b[0m\u001b[1;33m\u001b[0m\u001b[1;33m\u001b[0m\u001b[0m\n\u001b[1;32m---> 52\u001b[1;33m         \u001b[1;32mreturn\u001b[0m \u001b[0mself\u001b[0m\u001b[1;33m.\u001b[0m\u001b[0mcollate_fn\u001b[0m\u001b[1;33m(\u001b[0m\u001b[0mdata\u001b[0m\u001b[1;33m)\u001b[0m\u001b[1;33m\u001b[0m\u001b[1;33m\u001b[0m\u001b[0m\n\u001b[0m",
      "\u001b[1;32m~\\anaconda3\\lib\\site-packages\\torch\\utils\\data\\_utils\\collate.py\u001b[0m in \u001b[0;36mdefault_collate\u001b[1;34m(batch)\u001b[0m\n\u001b[0;32m     82\u001b[0m             \u001b[1;32mraise\u001b[0m \u001b[0mRuntimeError\u001b[0m\u001b[1;33m(\u001b[0m\u001b[1;34m'each element in list of batch should be of equal size'\u001b[0m\u001b[1;33m)\u001b[0m\u001b[1;33m\u001b[0m\u001b[1;33m\u001b[0m\u001b[0m\n\u001b[0;32m     83\u001b[0m         \u001b[0mtransposed\u001b[0m \u001b[1;33m=\u001b[0m \u001b[0mzip\u001b[0m\u001b[1;33m(\u001b[0m\u001b[1;33m*\u001b[0m\u001b[0mbatch\u001b[0m\u001b[1;33m)\u001b[0m\u001b[1;33m\u001b[0m\u001b[1;33m\u001b[0m\u001b[0m\n\u001b[1;32m---> 84\u001b[1;33m         \u001b[1;32mreturn\u001b[0m \u001b[1;33m[\u001b[0m\u001b[0mdefault_collate\u001b[0m\u001b[1;33m(\u001b[0m\u001b[0msamples\u001b[0m\u001b[1;33m)\u001b[0m \u001b[1;32mfor\u001b[0m \u001b[0msamples\u001b[0m \u001b[1;32min\u001b[0m \u001b[0mtransposed\u001b[0m\u001b[1;33m]\u001b[0m\u001b[1;33m\u001b[0m\u001b[1;33m\u001b[0m\u001b[0m\n\u001b[0m\u001b[0;32m     85\u001b[0m \u001b[1;33m\u001b[0m\u001b[0m\n\u001b[0;32m     86\u001b[0m     \u001b[1;32mraise\u001b[0m \u001b[0mTypeError\u001b[0m\u001b[1;33m(\u001b[0m\u001b[0mdefault_collate_err_msg_format\u001b[0m\u001b[1;33m.\u001b[0m\u001b[0mformat\u001b[0m\u001b[1;33m(\u001b[0m\u001b[0melem_type\u001b[0m\u001b[1;33m)\u001b[0m\u001b[1;33m)\u001b[0m\u001b[1;33m\u001b[0m\u001b[1;33m\u001b[0m\u001b[0m\n",
      "\u001b[1;32m~\\anaconda3\\lib\\site-packages\\torch\\utils\\data\\_utils\\collate.py\u001b[0m in \u001b[0;36m<listcomp>\u001b[1;34m(.0)\u001b[0m\n\u001b[0;32m     82\u001b[0m             \u001b[1;32mraise\u001b[0m \u001b[0mRuntimeError\u001b[0m\u001b[1;33m(\u001b[0m\u001b[1;34m'each element in list of batch should be of equal size'\u001b[0m\u001b[1;33m)\u001b[0m\u001b[1;33m\u001b[0m\u001b[1;33m\u001b[0m\u001b[0m\n\u001b[0;32m     83\u001b[0m         \u001b[0mtransposed\u001b[0m \u001b[1;33m=\u001b[0m \u001b[0mzip\u001b[0m\u001b[1;33m(\u001b[0m\u001b[1;33m*\u001b[0m\u001b[0mbatch\u001b[0m\u001b[1;33m)\u001b[0m\u001b[1;33m\u001b[0m\u001b[1;33m\u001b[0m\u001b[0m\n\u001b[1;32m---> 84\u001b[1;33m         \u001b[1;32mreturn\u001b[0m \u001b[1;33m[\u001b[0m\u001b[0mdefault_collate\u001b[0m\u001b[1;33m(\u001b[0m\u001b[0msamples\u001b[0m\u001b[1;33m)\u001b[0m \u001b[1;32mfor\u001b[0m \u001b[0msamples\u001b[0m \u001b[1;32min\u001b[0m \u001b[0mtransposed\u001b[0m\u001b[1;33m]\u001b[0m\u001b[1;33m\u001b[0m\u001b[1;33m\u001b[0m\u001b[0m\n\u001b[0m\u001b[0;32m     85\u001b[0m \u001b[1;33m\u001b[0m\u001b[0m\n\u001b[0;32m     86\u001b[0m     \u001b[1;32mraise\u001b[0m \u001b[0mTypeError\u001b[0m\u001b[1;33m(\u001b[0m\u001b[0mdefault_collate_err_msg_format\u001b[0m\u001b[1;33m.\u001b[0m\u001b[0mformat\u001b[0m\u001b[1;33m(\u001b[0m\u001b[0melem_type\u001b[0m\u001b[1;33m)\u001b[0m\u001b[1;33m)\u001b[0m\u001b[1;33m\u001b[0m\u001b[1;33m\u001b[0m\u001b[0m\n",
      "\u001b[1;32m~\\anaconda3\\lib\\site-packages\\torch\\utils\\data\\_utils\\collate.py\u001b[0m in \u001b[0;36mdefault_collate\u001b[1;34m(batch)\u001b[0m\n\u001b[0;32m     54\u001b[0m             \u001b[0mstorage\u001b[0m \u001b[1;33m=\u001b[0m \u001b[0melem\u001b[0m\u001b[1;33m.\u001b[0m\u001b[0mstorage\u001b[0m\u001b[1;33m(\u001b[0m\u001b[1;33m)\u001b[0m\u001b[1;33m.\u001b[0m\u001b[0m_new_shared\u001b[0m\u001b[1;33m(\u001b[0m\u001b[0mnumel\u001b[0m\u001b[1;33m)\u001b[0m\u001b[1;33m\u001b[0m\u001b[1;33m\u001b[0m\u001b[0m\n\u001b[0;32m     55\u001b[0m             \u001b[0mout\u001b[0m \u001b[1;33m=\u001b[0m \u001b[0melem\u001b[0m\u001b[1;33m.\u001b[0m\u001b[0mnew\u001b[0m\u001b[1;33m(\u001b[0m\u001b[0mstorage\u001b[0m\u001b[1;33m)\u001b[0m\u001b[1;33m\u001b[0m\u001b[1;33m\u001b[0m\u001b[0m\n\u001b[1;32m---> 56\u001b[1;33m         \u001b[1;32mreturn\u001b[0m \u001b[0mtorch\u001b[0m\u001b[1;33m.\u001b[0m\u001b[0mstack\u001b[0m\u001b[1;33m(\u001b[0m\u001b[0mbatch\u001b[0m\u001b[1;33m,\u001b[0m \u001b[1;36m0\u001b[0m\u001b[1;33m,\u001b[0m \u001b[0mout\u001b[0m\u001b[1;33m=\u001b[0m\u001b[0mout\u001b[0m\u001b[1;33m)\u001b[0m\u001b[1;33m\u001b[0m\u001b[1;33m\u001b[0m\u001b[0m\n\u001b[0m\u001b[0;32m     57\u001b[0m     \u001b[1;32melif\u001b[0m \u001b[0melem_type\u001b[0m\u001b[1;33m.\u001b[0m\u001b[0m__module__\u001b[0m \u001b[1;33m==\u001b[0m \u001b[1;34m'numpy'\u001b[0m \u001b[1;32mand\u001b[0m \u001b[0melem_type\u001b[0m\u001b[1;33m.\u001b[0m\u001b[0m__name__\u001b[0m \u001b[1;33m!=\u001b[0m \u001b[1;34m'str_'\u001b[0m\u001b[0;31m \u001b[0m\u001b[0;31m\\\u001b[0m\u001b[1;33m\u001b[0m\u001b[1;33m\u001b[0m\u001b[0m\n\u001b[0;32m     58\u001b[0m             \u001b[1;32mand\u001b[0m \u001b[0melem_type\u001b[0m\u001b[1;33m.\u001b[0m\u001b[0m__name__\u001b[0m \u001b[1;33m!=\u001b[0m \u001b[1;34m'string_'\u001b[0m\u001b[1;33m:\u001b[0m\u001b[1;33m\u001b[0m\u001b[1;33m\u001b[0m\u001b[0m\n",
      "\u001b[1;31mKeyboardInterrupt\u001b[0m: "
     ]
    }
   ],
   "source": [
    "fit(5, model, F.cross_entropy, optimizer, train_loader, val_loader, accuracy)\n",
    "#here the  loss getting decreased and the accuray keeps increasing"
   ]
  },
  {
   "cell_type": "code",
   "execution_count": 87,
   "id": "b7df6027",
   "metadata": {},
   "outputs": [
    {
     "data": {
      "image/png": "[encoded data removed]",
      "text/plain": [
       "<Figure size 432x288 with 1 Axes>"
      ]
     },
     "metadata": {
      "needs_background": "light"
     },
     "output_type": "display_data"
    }
   ],
   "source": [
    "#replace these values with your result\n",
    "accuracies = [0.0691, 0.0696, 0.0710, 0.0723, 0.0747,\n",
    "              0.0751, 0.0764, 0.0777, 0.0784, 0.0797,\n",
    "              0.0812, 0.0825, 0.0839, 0.0852, 0.0877,\n",
    "              0.0891, 0.0901, 0.0920, 0.0928]\n",
    "plt.plot(accuracies, '-x')\n",
    "plt.xlabel('epoch')\n",
    "plt.ylabel('accuracy')\n",
    "plt.title('accuracy vs. No. of epoch');\n",
    "#here the accuracy increases linearly "
   ]
  },
  {
   "cell_type": "code",
   "execution_count": null,
   "id": "28f059cc",
   "metadata": {},
   "outputs": [],
   "source": [
    "#TESTING WITH INDIVIDUAL IMAGES"
   ]
  },
  {
   "cell_type": "code",
   "execution_count": 88,
   "id": "b17af313",
   "metadata": {},
   "outputs": [],
   "source": [
    "#define tese dataset\n",
    "test_dataset = MNIST(root='data/', train=False, transform=transforms.ToTensor())"
   ]
  },
  {
   "cell_type": "code",
   "execution_count": 89,
   "id": "3c1235ef",
   "metadata": {},
   "outputs": [
    {
     "name": "stdout",
     "output_type": "stream",
     "text": [
      "shape: torch.Size([1, 28, 28])\n",
      "label: 7\n"
     ]
    },
    {
     "data": {
      "image/png": "[encoded data removed]",
      "text/plain": [
       "<Figure size 432x288 with 1 Axes>"
      ]
     },
     "metadata": {
      "needs_background": "light"
     },
     "output_type": "display_data"
    }
   ],
   "source": [
    "img, label = test_dataset[0]\n",
    "plt.imshow(img[0], cmap='gray')\n",
    "print('shape:', img.shape)\n",
    "print('label:', label)"
   ]
  },
  {
   "cell_type": "code",
   "execution_count": 90,
   "id": "950c1b6b",
   "metadata": {},
   "outputs": [
    {
     "data": {
      "text/plain": [
       "torch.Size([1, 1, 28, 28])"
      ]
     },
     "execution_count": 90,
     "metadata": {},
     "output_type": "execute_result"
    }
   ],
   "source": [
    "img.unsqueeze(0).shape  # it converts the image into batch of only one image, it just adds another dimension"
   ]
  },
  {
   "cell_type": "code",
   "execution_count": 91,
   "id": "48d32f59",
   "metadata": {},
   "outputs": [],
   "source": [
    "def predict_image(img, model):\n",
    "    xb = img.unsqueeze(0)\n",
    "    yb = model(xb)\n",
    "    _, preds = torch.max(yb, dim=1)\n",
    "    return preds[0].item()"
   ]
  },
  {
   "cell_type": "code",
   "execution_count": 92,
   "id": "433a8a31",
   "metadata": {},
   "outputs": [
    {
     "name": "stdout",
     "output_type": "stream",
     "text": [
      "label: 7 ,predicted: 6\n"
     ]
    },
    {
     "data": {
      "image/png": "[encoded data removed]",
      "text/plain": [
       "<Figure size 432x288 with 1 Axes>"
      ]
     },
     "metadata": {
      "needs_background": "light"
     },
     "output_type": "display_data"
    }
   ],
   "source": [
    "img, label = test_dataset[0]\n",
    "plt.imshow(img[0], cmap='gray')\n",
    "print('label:', label, ',predicted:', predict_image(img, model))"
   ]
  },
  {
   "cell_type": "code",
   "execution_count": 93,
   "id": "43f20259",
   "metadata": {},
   "outputs": [
    {
     "name": "stdout",
     "output_type": "stream",
     "text": [
      "label: 0 ,predicted: 4\n"
     ]
    },
    {
     "data": {
      "image/png": "[encoded data removed]",
      "text/plain": [
       "<Figure size 432x288 with 1 Axes>"
      ]
     },
     "metadata": {
      "needs_background": "light"
     },
     "output_type": "display_data"
    }
   ],
   "source": [
    "img, label = test_dataset[10]\n",
    "plt.imshow(img[0], cmap='gray')\n",
    "print('label:', label, ',predicted:', predict_image(img, model))"
   ]
  },
  {
   "cell_type": "code",
   "execution_count": 94,
   "id": "77355346",
   "metadata": {},
   "outputs": [
    {
     "name": "stdout",
     "output_type": "stream",
     "text": [
      "label: 9 ,predicted: 7\n"
     ]
    },
    {
     "data": {
      "image/png": "[encoded data removed]",
      "text/plain": [
       "<Figure size 432x288 with 1 Axes>"
      ]
     },
     "metadata": {
      "needs_background": "light"
     },
     "output_type": "display_data"
    }
   ],
   "source": [
    "img, label = test_dataset[193]\n",
    "plt.imshow(img[0], cmap='gray')\n",
    "print('label:', label, ',predicted:', predict_image(img, model))"
   ]
  },
  {
   "cell_type": "code",
   "execution_count": 95,
   "id": "7c0bf8ec",
   "metadata": {},
   "outputs": [
    {
     "name": "stdout",
     "output_type": "stream",
     "text": [
      "label: 4 ,predicted: 7\n"
     ]
    },
    {
     "data": {
      "image/png": "[encoded data removed]",
      "text/plain": [
       "<Figure size 432x288 with 1 Axes>"
      ]
     },
     "metadata": {
      "needs_background": "light"
     },
     "output_type": "display_data"
    }
   ],
   "source": [
    "img, label = test_dataset[300]\n",
    "plt.imshow(img[0], cmap='gray')\n",
    "print('label:', label, ',predicted:', predict_image(img, model))"
   ]
  },
  {
   "cell_type": "code",
   "execution_count": 96,
   "id": "f80b6dfd",
   "metadata": {},
   "outputs": [
    {
     "name": "stdout",
     "output_type": "stream",
     "text": [
      "label: 2 ,predicted: 6\n"
     ]
    },
    {
     "data": {
      "image/png": "[encoded data removed]",
      "text/plain": [
       "<Figure size 432x288 with 1 Axes>"
      ]
     },
     "metadata": {
      "needs_background": "light"
     },
     "output_type": "display_data"
    }
   ],
   "source": [
    "img, label = test_dataset[1839]\n",
    "plt.imshow(img[0], cmap='gray')\n",
    "print('label:', label, ',predicted:', predict_image(img, model))"
   ]
  },
  {
   "cell_type": "code",
   "execution_count": 97,
   "id": "6cd585f4",
   "metadata": {},
   "outputs": [
    {
     "name": "stdout",
     "output_type": "stream",
     "text": [
      "loss: 2.3734, accuracy: 0.0317\n"
     ]
    }
   ],
   "source": [
    "test_loader = DataLoader(test_dataset, batch_size=200)\n",
    "\n",
    "test_loss, total, test_acc = evaluate(model, loss_fn, test_loader, metric=accuracy)\n",
    "print('loss: {:.4f}, accuracy: {:.4f}'.format(test_loss, test_acc))\n",
    "#it is good test accuracy"
   ]
  },
  {
   "cell_type": "code",
   "execution_count": 98,
   "id": "46d379aa",
   "metadata": {},
   "outputs": [],
   "source": [
    "#SAVING AND LOADING THE MODEL\n",
    "torch.save(model.state_dict(), 'mnist-logistic.pth')\n",
    "#model.state_dict() contains a weight and biases"
   ]
  },
  {
   "cell_type": "code",
   "execution_count": 99,
   "id": "07d2ad7d",
   "metadata": {},
   "outputs": [
    {
     "data": {
      "text/plain": [
       "OrderedDict([('linear.weight',\n",
       "              tensor([[ 0.0235, -0.0187, -0.0278,  ..., -0.0247,  0.0305, -0.0130],\n",
       "                      [ 0.0056,  0.0143,  0.0002,  ..., -0.0080, -0.0058,  0.0253],\n",
       "                      [-0.0187,  0.0140,  0.0095,  ..., -0.0077, -0.0297, -0.0334],\n",
       "                      ...,\n",
       "                      [ 0.0158, -0.0159, -0.0277,  ..., -0.0296, -0.0263, -0.0207],\n",
       "                      [ 0.0089, -0.0098,  0.0142,  ...,  0.0027,  0.0207, -0.0332],\n",
       "                      [-0.0260, -0.0343,  0.0185,  ..., -0.0101,  0.0119,  0.0290]])),\n",
       "             ('linear.bias',\n",
       "              tensor([ 0.0258,  0.0343, -0.0062, -0.0147,  0.0148,  0.0144, -0.0240,  0.0320,\n",
       "                      -0.0049, -0.0108]))])"
      ]
     },
     "execution_count": 99,
     "metadata": {},
     "output_type": "execute_result"
    }
   ],
   "source": [
    "model.state_dict()"
   ]
  },
  {
   "cell_type": "code",
   "execution_count": 100,
   "id": "61a50b87",
   "metadata": {},
   "outputs": [
    {
     "data": {
      "text/plain": [
       "OrderedDict([('linear.weight',\n",
       "              tensor([[ 0.0235, -0.0187, -0.0278,  ..., -0.0247,  0.0305, -0.0130],\n",
       "                      [ 0.0056,  0.0143,  0.0002,  ..., -0.0080, -0.0058,  0.0253],\n",
       "                      [-0.0187,  0.0140,  0.0095,  ..., -0.0077, -0.0297, -0.0334],\n",
       "                      ...,\n",
       "                      [ 0.0158, -0.0159, -0.0277,  ..., -0.0296, -0.0263, -0.0207],\n",
       "                      [ 0.0089, -0.0098,  0.0142,  ...,  0.0027,  0.0207, -0.0332],\n",
       "                      [-0.0260, -0.0343,  0.0185,  ..., -0.0101,  0.0119,  0.0290]])),\n",
       "             ('linear.bias',\n",
       "              tensor([ 0.0258,  0.0343, -0.0062, -0.0147,  0.0148,  0.0144, -0.0240,  0.0320,\n",
       "                      -0.0049, -0.0108]))])"
      ]
     },
     "execution_count": 100,
     "metadata": {},
     "output_type": "execute_result"
    }
   ],
   "source": [
    "#here we copy the weights and biases from model1 to model2\n",
    "model2 = MnistModel()\n",
    "model2.load_state_dict(torch.load('mnist-logistic.pth'))\n",
    "model2.state_dict()"
   ]
  },
  {
   "cell_type": "code",
   "execution_count": 101,
   "id": "1a1ff85b",
   "metadata": {},
   "outputs": [
    {
     "name": "stdout",
     "output_type": "stream",
     "text": [
      "loss: 2.3734, accuracy: 0.0317\n"
     ]
    }
   ],
   "source": [
    "test_loss, total, test_acc = evaluate(model2, loss_fn, test_loader, metric=accuracy)\n",
    "print('loss: {:.4f}, accuracy: {:.4f}'.format(test_loss, test_acc))\n",
    "\n",
    "#here we get the same accuracy"
   ]
  },
  {
   "cell_type": "code",
   "execution_count": null,
   "id": "9b75db3e",
   "metadata": {},
   "outputs": [],
   "source": [
    "## Summary and Further Reading\n",
    "\n",
    "#We've created a fairly sophisticated training and evaluation pipeline in this tutorial. Here's a list of the topics we've covered:\n",
    "\n",
    "# Working with images in PyTorch (using the MNIST dataset)\n",
    "# Splitting a dataset into training, validation and test sets\n",
    "# Creating PyTorch models with custom logic by extending the `nn.Module` class\n",
    "# Interpreting model ouputs as probabilities using softmax, and picking predicted labels\n",
    "# Picking a good evaluation metric (accuracy) and loss function (cross entropy) for classification problems\n",
    "# Setting up a training loop that also evaluates the model using the validation set\n",
    "# Testing the model manually on randomly picked examples \n",
    "# Saving and loading model checkpoints to avoid retraining from scratch\n",
    "\n",
    "#There's a lot of scope to experiment here, and I encourage you to use the interactive nature of Jupyter to play around with the various parameters. Here are a few ideas:\n",
    "\n",
    "# Try making the validation set smaller or larger, and see how it affects the model.\n",
    "# Try changing the learning rate and see if you can achieve the same accuracy in fewer epochs.\n",
    "# Try changing the batch size. What happens if you use too high a batch size, or too low?\n",
    "# Modify the `fit` function to also track the overall loss and accuracy on the training set, and see how it compares with the validation loss/accuracy. Can you explain why it's lower/higher?\n",
    "# Train with a small subset of the data, and see if you can reach a similar level of accuracy.\n",
    "# Try building a model for a different dataset, such as the [CIFAR10 or CIFAR100 datasets](https://www.cs.toronto.edu/~kriz/cifar.html).\n",
    "\n"
   ]
  },
  {
   "cell_type": "code",
   "execution_count": null,
   "id": "4f93d498",
   "metadata": {},
   "outputs": [],
   "source": []
  },
  {
   "cell_type": "code",
   "execution_count": null,
   "id": "a418da72",
   "metadata": {},
   "outputs": [],
   "source": []
  },
  {
   "cell_type": "code",
   "execution_count": null,
   "id": "d29d87ea",
   "metadata": {},
   "outputs": [],
   "source": []
  },
  {
   "cell_type": "code",
   "execution_count": null,
   "id": "08a0fd27",
   "metadata": {},
   "outputs": [],
   "source": []
  }
 ],
 "metadata": {
  "kernelspec": {
   "display_name": "Python 3 (ipykernel)",
   "language": "python",
   "name": "python3"
  },
  "language_info": {
   "codemirror_mode": {
    "name": "ipython",
    "version": 3
   },
   "file_extension": ".py",
   "mimetype": "text/x-python",
   "name": "python",
   "nbconvert_exporter": "python",
   "pygments_lexer": "ipython3",
   "version": "3.9.7"
  }
 },
 "nbformat": 4,
 "nbformat_minor": 5
}
